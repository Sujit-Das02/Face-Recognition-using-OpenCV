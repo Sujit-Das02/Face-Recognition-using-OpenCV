{
 "cells": [
  {
   "cell_type": "code",
   "execution_count": 2,
   "metadata": {},
   "outputs": [],
   "source": [
    "import cv2\n",
    "import numpy as np\n",
    "import matplotlib.pyplot as plt"
   ]
  },
  {
   "cell_type": "code",
   "execution_count": 4,
   "metadata": {},
   "outputs": [],
   "source": [
    "\n",
    "cap=cv2.VideoCapture(0)\n",
    "faceCascade=cv2.CascadeClassifier(\"haarcascade_fontalface_alt.xml\")\n",
    "\n",
    "while True:\n",
    "    ret,frame= cap.read()\n",
    "    grayFrame= cv2.cvtColor(frame,cv2.COLOR_BGR2GRAY)\n",
    "\n",
    "    if ret== False:\n",
    "        continue\n",
    "\n",
    "    # faceCascade.detectMultiScale(grayFrame,scalingFactor,NoOfNeigbours)\n",
    "    # scalingFactor shrink the image\n",
    "    # 1.3 shrink 30% of every pass, similarly 1.05 shrink 5%\n",
    "    faces= faceCascade.detectMultiScale(grayFrame,1.3,5)\n",
    "\n",
    "    #cv2.imshow('Gray Frame',grayFrame)\n",
    "\n",
    "    for (x,y,w,h) in faces:\n",
    "        cv2.rectangle(frame,(x,y),(x+w,y+h),(0,0,255),3)\n",
    "\n",
    "    cv2.imshow(\"Video Frame\",frame)\n",
    "\n",
    "    # wait fro user input -q then you will stop the loop\n",
    "    keyPressed=cv2.waitKey(1) & 0xFF\n",
    "    if keyPressed==ord('q'):\n",
    "        break\n",
    "\n",
    "cap.release()\n",
    "cv2.destroyAllWindows()"
   ]
  },
  {
   "cell_type": "code",
   "execution_count": 2,
   "metadata": {},
   "outputs": [],
   "source": [
    "cap=cv2.VideoCapture(0)\n",
    "faceCascade=cv2.CascadeClassifier(\"haarcascade_fontalface_alt.xml\")\n",
    "\n",
    "\n",
    "while True:\n",
    "\n",
    "    success,frame = cap.read()\n",
    "\n",
    "    if not success:\n",
    "        continue\n",
    "\n",
    "    cv2.imshow(\"dass\",frame,)\n",
    "\n",
    "    key = cv2.waitKey(1) & 0xFF\n",
    "    if key == ord('q'):\n",
    "        break\n",
    "\n",
    "cap.release()\n",
    "cv2.destroyAllWindows()"
   ]
  }
 ],
 "metadata": {
  "interpreter": {
   "hash": "8f58630e89d898b14b792792ed111cebeae05042a3ac41b3ba1790d23c2da74e"
  },
  "kernelspec": {
   "display_name": "Python 3.10.2 64-bit",
   "language": "python",
   "name": "python3"
  },
  "language_info": {
   "codemirror_mode": {
    "name": "ipython",
    "version": 3
   },
   "file_extension": ".py",
   "mimetype": "text/x-python",
   "name": "python",
   "nbconvert_exporter": "python",
   "pygments_lexer": "ipython3",
   "version": "3.10.2"
  },
  "orig_nbformat": 4
 },
 "nbformat": 4,
 "nbformat_minor": 2
}
